{
  "cells": [
    {
      "cell_type": "code",
      "execution_count": null,
      "id": "ae6794a2",
      "metadata": {},
      "outputs": [],
      "source": [
        "somme = 0\n",
        "for i in range(1, 11):\n",
        "    somme += i\n",
        "\n",
        "print(f\"La somme des nombres de 1 à 10 est: {somme}\")"
      ]
    }
  ],
  "metadata": {
    "kernelspec": {
      "display_name": "Python 3",
      "language": "python",
      "name": "python3"
    },
    "language_info": {
      "name": "python",
      "version": "3.8"  // Adjust this version depending on your environment
    }
  },
  "nbformat": 4,
  "nbformat_minor": 5
}
