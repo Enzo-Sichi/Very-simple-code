{
 "cells": [
  {
   "cell_type": "code",
   "execution_count": null,
   "id": "ae6794a2",
   "metadata": {},
   "outputs": [],
   "source": [
    "somme = 0\n",
    "for i in range(1, 11):\n",
    "    somme += i\n",
    "\n",
    "print(\"La somme des nombres de 1 � 10 est: {somme}\")"
   ]
  }
 ],
 "metadata": {},
 "nbformat": 4,
 "nbformat_minor": 5
}
